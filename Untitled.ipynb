{
 "cells": [
  {
   "cell_type": "code",
   "execution_count": 2,
   "metadata": {},
   "outputs": [
    {
     "name": "stderr",
     "output_type": "stream",
     "text": [
      "/usr/local/lib/python3.5/dist-packages/h5py/__init__.py:36: FutureWarning: Conversion of the second argument of issubdtype from `float` to `np.floating` is deprecated. In future, it will be treated as `np.float64 == np.dtype(float).type`.\n",
      "  from ._conv import register_converters as _register_converters\n",
      "Using TensorFlow backend.\n"
     ]
    }
   ],
   "source": [
    "import pickle\n",
    "import matplotlib.pyplot as plt\n",
    "import numpy as np\n",
    "import cv2\n",
    "from keras.utils import np_utils\n"
   ]
  },
  {
   "cell_type": "code",
   "execution_count": 3,
   "metadata": {},
   "outputs": [],
   "source": [
    "X_train, y_train, X_test, y_test = [], [], [], []\n",
    "nb_classes = 43"
   ]
  },
  {
   "cell_type": "code",
   "execution_count": 4,
   "metadata": {},
   "outputs": [],
   "source": [
    "def load_data():\n",
    "    training_file = \"data/train.p\"\n",
    "    test_file = \"data/test.p\"\n",
    "\n",
    "    with open(training_file, mode = 'rb') as f:\n",
    "        train = pickle.load(f)\n",
    "    with open(test_file, mode = 'rb') as f:\n",
    "        test = pickle.load(f)\n",
    "\n",
    "    X_train, y_train = train['features'], train['labels']\n",
    "    X_test, y_test = test['features'], test['labels']\n",
    "\n",
    "    y_train = np_utils.to_categorical(y_train, nb_classes)\n",
    "    y_test = np_utils.to_categorical(y_test, nb_classes)\n",
    "\n",
    "    return X_train, y_train, X_test, y_test"
   ]
  },
  {
   "cell_type": "code",
   "execution_count": 5,
   "metadata": {},
   "outputs": [],
   "source": [
    "def show_images(imgs, rows = 1):\n",
    "    num_of_images = np.asarray(imgs).shape[0]\n",
    "    \n",
    "    cols = num_of_images / rows\n",
    "    if num_of_images % rows != 0:\n",
    "        cols += 1\n",
    "    cols = int(cols)\n",
    "    \n",
    "    \n",
    "    fig, axs = plt.subplots(rows, cols, figsize = (10, 3), squeeze=False)\n",
    "    \n",
    "    for row in range(0, rows):\n",
    "        for col in range(0, cols):\n",
    "            axs[row, col].imshow(imgs[row*cols + col])\n",
    "    "
   ]
  },
  {
   "cell_type": "code",
   "execution_count": 6,
   "metadata": {},
   "outputs": [],
   "source": [
    "def augment_data(data, translate = True, scale = True, rotation = True, brightness = True, debug = False):\n",
    "    \n",
    "    if debug:\n",
    "        print(\"Before: \")\n",
    "        show_images(data[0:2])\n",
    "    \n",
    "    if(translate):\n",
    "        random_translate(data)\n",
    "    if(scale):\n",
    "        random_scale(data)\n",
    "    if(rotation):\n",
    "        random_rotation(data)\n",
    "    if(brightness):\n",
    "        random_brightness(data)\n",
    "    \n",
    "    if debug:\n",
    "        print(\"After: \")\n",
    "        show_images(data[0:2])\n",
    "        \n",
    "    return data"
   ]
  },
  {
   "cell_type": "code",
   "execution_count": 6,
   "metadata": {},
   "outputs": [
    {
     "name": "stdout",
     "output_type": "stream",
     "text": [
      "Before: \n"
     ]
    },
    {
     "ename": "NameError",
     "evalue": "name 'random_translate' is not defined",
     "output_type": "error",
     "traceback": [
      "\u001b[0;31m---------------------------------------------------------------------------\u001b[0m",
      "\u001b[0;31mNameError\u001b[0m                                 Traceback (most recent call last)",
      "\u001b[0;32m<ipython-input-6-1fd1f07a19cf>\u001b[0m in \u001b[0;36m<module>\u001b[0;34m()\u001b[0m\n\u001b[0;32m----> 1\u001b[0;31m \u001b[0maugment_data\u001b[0m\u001b[0;34m(\u001b[0m\u001b[0mX_train\u001b[0m\u001b[0;34m,\u001b[0m \u001b[0mdebug\u001b[0m \u001b[0;34m=\u001b[0m \u001b[0;32mTrue\u001b[0m\u001b[0;34m)\u001b[0m\u001b[0;34m\u001b[0m\u001b[0m\n\u001b[0m\u001b[1;32m      2\u001b[0m \u001b[0mprint\u001b[0m\u001b[0;34m(\u001b[0m\u001b[0;34m\"Done\"\u001b[0m\u001b[0;34m)\u001b[0m\u001b[0;34m\u001b[0m\u001b[0m\n",
      "\u001b[0;32m<ipython-input-5-85a61941af77>\u001b[0m in \u001b[0;36maugment_data\u001b[0;34m(data, translate, scale, rotation, brightness, debug)\u001b[0m\n\u001b[1;32m      6\u001b[0m \u001b[0;34m\u001b[0m\u001b[0m\n\u001b[1;32m      7\u001b[0m     \u001b[0;32mif\u001b[0m\u001b[0;34m(\u001b[0m\u001b[0mtranslate\u001b[0m\u001b[0;34m)\u001b[0m\u001b[0;34m:\u001b[0m\u001b[0;34m\u001b[0m\u001b[0m\n\u001b[0;32m----> 8\u001b[0;31m         \u001b[0mrandom_translate\u001b[0m\u001b[0;34m(\u001b[0m\u001b[0mdata\u001b[0m\u001b[0;34m)\u001b[0m\u001b[0;34m\u001b[0m\u001b[0m\n\u001b[0m\u001b[1;32m      9\u001b[0m     \u001b[0;32mif\u001b[0m\u001b[0;34m(\u001b[0m\u001b[0mscale\u001b[0m\u001b[0;34m)\u001b[0m\u001b[0;34m:\u001b[0m\u001b[0;34m\u001b[0m\u001b[0m\n\u001b[1;32m     10\u001b[0m         \u001b[0mrandom_scale\u001b[0m\u001b[0;34m(\u001b[0m\u001b[0mdata\u001b[0m\u001b[0;34m)\u001b[0m\u001b[0;34m\u001b[0m\u001b[0m\n",
      "\u001b[0;31mNameError\u001b[0m: name 'random_translate' is not defined"
     ]
    },
    {
     "data": {
      "text/plain": [
       "<Figure size 720x216 with 0 Axes>"
      ]
     },
     "metadata": {},
     "output_type": "display_data"
    }
   ],
   "source": [
    "augment_data(X_train, debug = True)\n",
    "print(\"Done\")"
   ]
  },
  {
   "cell_type": "code",
   "execution_count": 7,
   "metadata": {},
   "outputs": [],
   "source": [
    "def random_translate(data, max_translation = 2):\n",
    "    rows, cols, channels = data[0].shape\n",
    "    px = max_translation\n",
    "    dx, dy = np.random.randint(-px, px, 2)\n",
    "    M = np.float32([[1, 0, dx], [0, 1, dy]])\n",
    "    data = [cv2.warpAffine(img, M, (rows, cols)) for img in data]\n",
    "    return data"
   ]
  },
  {
   "cell_type": "code",
   "execution_count": 5,
   "metadata": {},
   "outputs": [
    {
     "name": "stdout",
     "output_type": "stream",
     "text": [
      "[[1. 0. 1.]\n",
      " [0. 1. 1.]]\n"
     ]
    }
   ],
   "source": [
    "M = np.float32([[1, 0, 1], [0, 1, 1]])\n",
    "print(M)"
   ]
  },
  {
   "cell_type": "code",
   "execution_count": 8,
   "metadata": {},
   "outputs": [],
   "source": [
    "def random_rotation(data, max_rotation = 10):\n",
    "    rows, cols, channels = np.asarray(data[0]).shape\n",
    "    rotation = np.random.randint(-max_rotation, max_rotation, 1)\n",
    "    M = cv2.getRotationMatrix2D((cols/2, rows/2), rotation, 1)\n",
    "    data = [cv2.warpAffine(img, M, (rows, cols)) for img in data]\n",
    "    return data"
   ]
  },
  {
   "cell_type": "code",
   "execution_count": 9,
   "metadata": {},
   "outputs": [],
   "source": [
    "def random_scale(data, max_scale = 2):\n",
    "    rows, cols, channels = data[0].shape\n",
    "    dx, dy = np.random.randint(-max_scale, max_scale, 2)\n",
    "    \n",
    "    \n",
    "    pts_1 = np.float32([[dx, dy],[rows-dx, dy], [dx, cols-dy], [rows - dx, cols - dy]])\n",
    "    pts_2 = np.float32([[0, 0], [rows, 0], [0, cols], [rows, cols]])\n",
    "    \n",
    "    M = cv2.getPerspectiveTransform(pts_1, pts_2)\n",
    "    \n",
    "    data = [cv2.warpPerspective(img, M, (rows, cols)) for img in data]\n",
    "    return data"
   ]
  },
  {
   "cell_type": "code",
   "execution_count": 10,
   "metadata": {},
   "outputs": [],
   "source": [
    "def random_brightness(data, max_brightness =  25):\n",
    "    value = np.uint8(np.random.randint(0, max_brightness, 1))\n",
    "    for img in data:\n",
    "        max_val = np.max(img)\n",
    "        lim = max_val - value\n",
    "        img[img > lim] = max_val\n",
    "        img[img <= lim] += value\n",
    "    \n",
    "    return data"
   ]
  },
  {
   "cell_type": "code",
   "execution_count": null,
   "metadata": {},
   "outputs": [],
   "source": [
    "fig, axs = plt.subplots(1, 4, figsize = (10, 3))\n",
    "\n",
    "data_translated = random_translate(X_train) \n",
    "axs[0].imshow(data_translated[0], cmap='gray')\n",
    "data_rotated = random_rotation(X_train) \n",
    "axs[1].imshow(data_rotated[0], cmap='gray')\n",
    "data_scaled = random_scale(X_train)\n",
    "axs[2].imshow(data_scaled[0].squeeze(), cmap='gray')\n",
    "data_brightner = random_brightness(X_train)\n",
    "axs[3].imshow(data_brightner[0], cmap='gray')\n",
    "#plt.show()"
   ]
  },
  {
   "cell_type": "code",
   "execution_count": 11,
   "metadata": {},
   "outputs": [],
   "source": [
    "def preprocess_data(data):\n",
    "    #data = [cv2.cvtColor(img, cv2.COLOR_RGB2GRAY) for img in data]\n",
    "    return data"
   ]
  },
  {
   "cell_type": "code",
   "execution_count": 12,
   "metadata": {},
   "outputs": [],
   "source": [
    "def get_data_with_class(x_data, y_data, nb_of_class):\n",
    "    output = []\n",
    "    \n",
    "    output.append([x_data[ind] for ind, y in enumerate(y_data) if y[nb_of_class] == 1])\n",
    "    \n",
    "    return output[0]"
   ]
  },
  {
   "cell_type": "code",
   "execution_count": null,
   "metadata": {},
   "outputs": [],
   "source": [
    "def show_img(img):\n",
    "    channels = 1\n",
    "    if len(np.asarray(img).shape) != 2:\n",
    "        channels = np.asarray(img).shape[2]\n",
    "    \n",
    "    if(channels == 1):\n",
    "        plt.imshow(img, cmap = 'gray')\n",
    "    else:\n",
    "        plt.imshow(img)\n",
    "        \n",
    "def show_imgs(imgs : list, cols = 5):\n",
    "    channels = 1\n",
    "    if len(np.asarray(imgs[0]).shape) != 2:\n",
    "        channels = np.asarray(imgs[0]).shape[2]\n",
    "    \n",
    "    num_of_images = len(imgs)\n",
    "    \n",
    "    if(cols > num_of_images):\n",
    "        cols = num_of_images\n",
    "    \n",
    "    rows = num_of_images / cols\n",
    "    if num_of_images % cols != 0:\n",
    "        rows += 1\n",
    "    rows = int(rows)\n",
    "    \n",
    "    fig, axs = plt.subplots(rows, cols, figsize = (15, 15), squeeze=False)\n",
    "    \n",
    "    index_image = 0\n",
    "    for row in range(0, rows):\n",
    "        for col in range(0, cols):\n",
    "            if index_image >= num_of_images:\n",
    "                return\n",
    "            \n",
    "            if(channels == 1):\n",
    "                axs[row, col].imshow(imgs[index_image], cmap = 'gray')\n",
    "            else:\n",
    "                axs[row, col].imshow(imgs[index_image])\n",
    "                \n",
    "            index_image += 1\n",
    "                \n",
    "    plt.show()"
   ]
  },
  {
   "cell_type": "code",
   "execution_count": null,
   "metadata": {},
   "outputs": [],
   "source": [
    "X_data_1 = get_data_with_class(X_train, y_train, 1)\n",
    "print(np.asarray(X_data_1).shape)\n",
    "show_images(X_data_1[0:2])"
   ]
  },
  {
   "cell_type": "code",
   "execution_count": 48,
   "metadata": {},
   "outputs": [],
   "source": [
    "def get_number_image_per_class(y_data, debug = False):\n",
    "    nb_image_in_class = np.zeros(nb_classes, dtype=np.int64)\n",
    "    \n",
    "    nb_hist_classes = []\n",
    "    for i in range(0, nb_classes):\n",
    "        nb_hist_classes.append(i)\n",
    "    for y in y_data:\n",
    "        for ind, res in enumerate(y):\n",
    "            if res == 1:\n",
    "                nb_image_in_class[ind] += 1\n",
    "    \n",
    "    if debug:\n",
    "        plt.bar(nb_hist_classes, nb_image_in_class)\n",
    "    \n",
    "    return nb_image_in_class"
   ]
  },
  {
   "cell_type": "code",
   "execution_count": 57,
   "metadata": {},
   "outputs": [],
   "source": [
    "def collect_data(x_data, y_data, num_of_data_per_class = 1000):\n",
    "    nb_image_per_class = get_number_image_per_class(y_data)\n",
    "    data_val = []\n",
    "    data_imgs = []\n",
    "    \n",
    "    \n",
    "    index_of_x_data = 0\n",
    "    for ind in range(0, nb_classes):\n",
    "        data_imgs.append(x_data[index_of_x_data : index_of_x_data + nb_image_per_class[ind]])\n",
    "        \n",
    "        index_of_x_data += int(nb_image_per_class[ind])\n",
    "    \n",
    "    for ind in range(0, nb_classes):\n",
    "        while nb_image_per_class[ind] < num_of_data_per_class:\n",
    "            new_data = np.concatenate((data_imgs[ind], augment_data(data_imgs[ind])))\n",
    "            data_imgs[ind] = []\n",
    "            data_imgs[ind] = new_data\n",
    "\n",
    "            nb_image_per_class[ind] = np.asarray(data_imgs[ind]).shape[0]\n",
    "            \n",
    "        data_imgs[ind] = data_imgs[ind][0 : num_of_data_per_class]\n",
    "        \n",
    "    data_imgs = np.reshape(data_imgs, (-1, 32, 32, 3))\n",
    "\n",
    "    data_val = np.zeros((num_of_data_per_class * nb_classes, nb_classes), dtype=np.int8)\n",
    "    for i in range(0, np.asarray(data_val).shape[0]):\n",
    "        ind_of_correct_class = int(i / num_of_data_per_class)\n",
    "        data_val[i][ind_of_correct_class] = 1\n",
    "    \n",
    "    \n",
    "    return data_imgs, data_val"
   ]
  },
  {
   "cell_type": "code",
   "execution_count": 59,
   "metadata": {},
   "outputs": [],
   "source": [
    "X_train, y_train = collect_data(X_train, y_train, num_of_data_per_class = 1000)"
   ]
  },
  {
   "cell_type": "code",
   "execution_count": 60,
   "metadata": {},
   "outputs": [
    {
     "data": {
      "image/png": "[encoded data removed]",
      "text/plain": [
       "<Figure size 432x288 with 1 Axes>"
      ]
     },
     "metadata": {},
     "output_type": "display_data"
    }
   ],
   "source": [
    "nb_image_per_class = get_number_image_per_class(y_train, debug = True)"
   ]
  },
  {
   "cell_type": "code",
   "execution_count": 15,
   "metadata": {},
   "outputs": [
    {
     "name": "stdout",
     "output_type": "stream",
     "text": [
      "255\n"
     ]
    },
    {
     "data": {
      "image/png": "[encoded data removed]",
      "text/plain": [
       "<Figure size 432x288 with 1 Axes>"
      ]
     },
     "metadata": {},
     "output_type": "display_data"
    },
    {
     "name": "stdout",
     "output_type": "stream",
     "text": [
      "[0]\n",
      "Before: \n",
      "After: \n"
     ]
    },
    {
     "data": {
      "image/png": "[encoded data removed]",
      "text/plain": [
       "<Figure size 720x216 with 2 Axes>"
      ]
     },
     "metadata": {},
     "output_type": "display_data"
    },
    {
     "data": {
      "image/png": "[encoded data removed]",
      "text/plain": [
       "<Figure size 720x216 with 2 Axes>"
      ]
     },
     "metadata": {},
     "output_type": "display_data"
    }
   ],
   "source": [
    "if __name__ == '__main__':\n",
    "    X_train, y_train, X_test, y_test = load_data();\n",
    "    X_train = preprocess_data(X_train)\n",
    "    print(np.max(X_train))\n",
    "    plt.imshow(X_train[0].squeeze(), cmap='gray')\n",
    "    plt.show()\n",
    "    print([ind for ind, y in enumerate(y_train[0]) if y == 1])\n",
    "    \n",
    "    #augment_data(X_train, debug = True)"
   ]
  },
  {
   "cell_type": "code",
   "execution_count": null,
   "metadata": {},
   "outputs": [],
   "source": [
    "X_train_gray = np.expand_dims(np.asarray([cv2.cvtColor(img, cv2.COLOR_RGB2GRAY) for img in X_train]), 3)"
   ]
  },
  {
   "cell_type": "code",
   "execution_count": null,
   "metadata": {},
   "outputs": [],
   "source": [
    "img = cv2.imread('index.jpeg')\n",
    "print(img.shape)\n",
    "print(X_train[0].shape)\n",
    "plt.imshow(img)\n",
    "plt.show()"
   ]
  }
 ],
 "metadata": {
  "kernelspec": {
   "display_name": "Python 3",
   "language": "python",
   "name": "python3"
  },
  "language_info": {
   "codemirror_mode": {
    "name": "ipython",
    "version": 3
   },
   "file_extension": ".py",
   "mimetype": "text/x-python",
   "name": "python",
   "nbconvert_exporter": "python",
   "pygments_lexer": "ipython3",
   "version": "3.5.2"
  }
 },
 "nbformat": 4,
 "nbformat_minor": 2
}
